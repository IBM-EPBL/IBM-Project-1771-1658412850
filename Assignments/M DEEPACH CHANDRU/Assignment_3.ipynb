{
 "cells": [
  {
   "cell_type": "code",
   "execution_count": 3,
   "id": "cb0f5d6f",
   "metadata": {},
   "outputs": [],
   "source": [
    "## Data Augmentation"
   ]
  },
  {
   "cell_type": "code",
   "execution_count": 4,
   "id": "05d6048f",
   "metadata": {},
   "outputs": [],
   "source": [
    "from tensorflow.keras.preprocessing.image import ImageDataGenerator"
   ]
  },
  {
   "cell_type": "code",
   "execution_count": 5,
   "id": "2d8c1856",
   "metadata": {},
   "outputs": [],
   "source": [
    "train_datagen = ImageDataGenerator(rescale=1./255,\n",
    "                                   zoom_range=0.2,\n",
    "                                   horizontal_flip=True)"
   ]
  },
  {
   "cell_type": "code",
   "execution_count": 6,
   "id": "f7f966b3",
   "metadata": {},
   "outputs": [],
   "source": [
    "test_datagen = ImageDataGenerator(rescale=1./255)"
   ]
  },
  {
   "cell_type": "code",
   "execution_count": 8,
   "id": "4386531d",
   "metadata": {},
   "outputs": [
    {
     "name": "stdout",
     "output_type": "stream",
     "text": [
      "Found 2971 images belonging to 5 classes.\n"
     ]
    }
   ],
   "source": [
    "xtrain = train_datagen.flow_from_directory('Downloads/Flowers-Dataset/flowers/training',\n",
    "                                           target_size=(64,64),\n",
    "                                           class_mode='categorical',\n",
    "                                           batch_size=100)"
   ]
  },
  {
   "cell_type": "code",
   "execution_count": 9,
   "id": "a42e78ec",
   "metadata": {},
   "outputs": [
    {
     "name": "stdout",
     "output_type": "stream",
     "text": [
      "Found 1346 images belonging to 5 classes.\n"
     ]
    }
   ],
   "source": [
    "xtest = test_datagen.flow_from_directory('Downloads/Flowers-Dataset/flowers/testing',\n",
    "                                         target_size=(64,64),\n",
    "                                         class_mode='categorical',\n",
    "                                         batch_size=100)"
   ]
  },
  {
   "cell_type": "code",
   "execution_count": 10,
   "id": "2b5fab0b",
   "metadata": {},
   "outputs": [],
   "source": [
    "##Create Model"
   ]
  },
  {
   "cell_type": "code",
   "execution_count": 11,
   "id": "ffc365bb",
   "metadata": {},
   "outputs": [],
   "source": [
    "from tensorflow.keras.models import Sequential\n",
    "from tensorflow.keras.layers import Convolution2D,MaxPooling2D,Flatten,Dense"
   ]
  },
  {
   "cell_type": "code",
   "execution_count": 12,
   "id": "1bd86113",
   "metadata": {},
   "outputs": [],
   "source": [
    "# Creating CNN block\n",
    "\n",
    "model = Sequential()\n",
    "model.add(Convolution2D(32,(3,3),activation='relu',input_shape=(64,64,3))) # Convolution layer\n",
    "model.add(MaxPooling2D(pool_size=(2,2))) # Max pooling layer\n",
    "model.add(Flatten()) # Flatten layer\n",
    "# Fully connected layers (ANN)\n",
    "model.add(Dense(500,activation='relu')) # Hidden layer 1\n",
    "model.add(Dense(300,activation='relu')) # Hidden layer 2\n",
    "model.add(Dense(150,activation='relu')) # Hidden Layer 3\n",
    "model.add(Dense(5,activation='softmax')) # Output layer"
   ]
  },
  {
   "cell_type": "code",
   "execution_count": 13,
   "id": "461fe7a9",
   "metadata": {},
   "outputs": [],
   "source": [
    "# Compile the model\n",
    "\n",
    "model.compile(optimizer='adam',loss='categorical_crossentropy',metrics=['accuracy'])"
   ]
  },
  {
   "cell_type": "code",
   "execution_count": 14,
   "id": "ba341481",
   "metadata": {
    "scrolled": false
   },
   "outputs": [
    {
     "name": "stderr",
     "output_type": "stream",
     "text": [
      "C:\\Users\\ELCOT\\AppData\\Local\\Temp\\ipykernel_17336\\2559865205.py:3: UserWarning: `Model.fit_generator` is deprecated and will be removed in a future version. Please use `Model.fit`, which supports generators.\n",
      "  model.fit_generator(xtrain,\n"
     ]
    },
    {
     "name": "stdout",
     "output_type": "stream",
     "text": [
      "Epoch 1/50\n",
      "30/30 [==============================] - 99s 3s/step - loss: 2.3447 - accuracy: 0.2891 - val_loss: 1.4538 - val_accuracy: 0.3930\n",
      "Epoch 2/50\n",
      "30/30 [==============================] - 53s 2s/step - loss: 1.2885 - accuracy: 0.4436 - val_loss: 1.3091 - val_accuracy: 0.4279\n",
      "Epoch 3/50\n",
      "30/30 [==============================] - 55s 2s/step - loss: 1.1369 - accuracy: 0.5220 - val_loss: 1.2717 - val_accuracy: 0.4770\n",
      "Epoch 4/50\n",
      "30/30 [==============================] - 57s 2s/step - loss: 1.0976 - accuracy: 0.5483 - val_loss: 1.3750 - val_accuracy: 0.4562\n",
      "Epoch 5/50\n",
      "30/30 [==============================] - 58s 2s/step - loss: 1.0423 - accuracy: 0.5772 - val_loss: 1.1802 - val_accuracy: 0.5342\n",
      "Epoch 6/50\n",
      "30/30 [==============================] - 57s 2s/step - loss: 0.9782 - accuracy: 0.6133 - val_loss: 1.0640 - val_accuracy: 0.5914\n",
      "Epoch 7/50\n",
      "30/30 [==============================] - 56s 2s/step - loss: 0.9344 - accuracy: 0.6274 - val_loss: 1.1740 - val_accuracy: 0.5639\n",
      "Epoch 8/50\n",
      "30/30 [==============================] - 58s 2s/step - loss: 0.8719 - accuracy: 0.6577 - val_loss: 1.1464 - val_accuracy: 0.5788\n",
      "Epoch 9/50\n",
      "30/30 [==============================] - 57s 2s/step - loss: 0.8436 - accuracy: 0.6732 - val_loss: 1.0307 - val_accuracy: 0.6174\n",
      "Epoch 10/50\n",
      "30/30 [==============================] - 58s 2s/step - loss: 0.8024 - accuracy: 0.6890 - val_loss: 1.1597 - val_accuracy: 0.5877\n",
      "Epoch 11/50\n",
      "30/30 [==============================] - 58s 2s/step - loss: 0.7712 - accuracy: 0.7089 - val_loss: 1.2650 - val_accuracy: 0.5750\n",
      "Epoch 12/50\n",
      "30/30 [==============================] - 60s 2s/step - loss: 0.7506 - accuracy: 0.7129 - val_loss: 1.2151 - val_accuracy: 0.5788\n",
      "Epoch 13/50\n",
      "30/30 [==============================] - 79s 3s/step - loss: 0.7254 - accuracy: 0.7277 - val_loss: 1.0654 - val_accuracy: 0.6293\n",
      "Epoch 14/50\n",
      "30/30 [==============================] - 64s 2s/step - loss: 0.6798 - accuracy: 0.7422 - val_loss: 1.1773 - val_accuracy: 0.6189\n",
      "Epoch 15/50\n",
      "30/30 [==============================] - 89s 3s/step - loss: 0.6426 - accuracy: 0.7641 - val_loss: 1.1852 - val_accuracy: 0.6189\n",
      "Epoch 16/50\n",
      "30/30 [==============================] - 94s 3s/step - loss: 0.6059 - accuracy: 0.7758 - val_loss: 1.2104 - val_accuracy: 0.5906\n",
      "Epoch 17/50\n",
      "30/30 [==============================] - 89s 3s/step - loss: 0.6097 - accuracy: 0.7651 - val_loss: 1.4056 - val_accuracy: 0.5899\n",
      "Epoch 18/50\n",
      "30/30 [==============================] - 75s 2s/step - loss: 0.5767 - accuracy: 0.7853 - val_loss: 1.2970 - val_accuracy: 0.5981\n",
      "Epoch 19/50\n",
      "30/30 [==============================] - 87s 3s/step - loss: 0.5347 - accuracy: 0.7970 - val_loss: 1.2285 - val_accuracy: 0.6129\n",
      "Epoch 20/50\n",
      "30/30 [==============================] - 70s 2s/step - loss: 0.5086 - accuracy: 0.8078 - val_loss: 1.2936 - val_accuracy: 0.6196\n",
      "Epoch 21/50\n",
      "30/30 [==============================] - 77s 3s/step - loss: 0.4711 - accuracy: 0.8334 - val_loss: 1.3162 - val_accuracy: 0.6248\n",
      "Epoch 22/50\n",
      "30/30 [==============================] - 137s 5s/step - loss: 0.4395 - accuracy: 0.8374 - val_loss: 1.3573 - val_accuracy: 0.6122\n",
      "Epoch 23/50\n",
      "30/30 [==============================] - 141s 5s/step - loss: 0.4413 - accuracy: 0.8465 - val_loss: 1.2707 - val_accuracy: 0.6434\n",
      "Epoch 24/50\n",
      "30/30 [==============================] - 70s 2s/step - loss: 0.4015 - accuracy: 0.8556 - val_loss: 1.2647 - val_accuracy: 0.6382\n",
      "Epoch 25/50\n",
      "30/30 [==============================] - 63s 2s/step - loss: 0.3671 - accuracy: 0.8681 - val_loss: 1.6241 - val_accuracy: 0.6003\n",
      "Epoch 26/50\n",
      "30/30 [==============================] - 60s 2s/step - loss: 0.3467 - accuracy: 0.8812 - val_loss: 1.6085 - val_accuracy: 0.6077\n",
      "Epoch 27/50\n",
      "30/30 [==============================] - 60s 2s/step - loss: 0.3170 - accuracy: 0.8856 - val_loss: 1.4975 - val_accuracy: 0.6166\n",
      "Epoch 28/50\n",
      "30/30 [==============================] - 62s 2s/step - loss: 0.3005 - accuracy: 0.8953 - val_loss: 1.4265 - val_accuracy: 0.6464\n",
      "Epoch 29/50\n",
      "30/30 [==============================] - 61s 2s/step - loss: 0.2669 - accuracy: 0.9088 - val_loss: 1.5622 - val_accuracy: 0.6360\n",
      "Epoch 30/50\n",
      "30/30 [==============================] - 67s 2s/step - loss: 0.2885 - accuracy: 0.8926 - val_loss: 1.4267 - val_accuracy: 0.6434\n",
      "Epoch 31/50\n",
      "30/30 [==============================] - 80s 3s/step - loss: 0.2914 - accuracy: 0.8950 - val_loss: 1.6497 - val_accuracy: 0.6181\n",
      "Epoch 32/50\n",
      "30/30 [==============================] - 73s 2s/step - loss: 0.2560 - accuracy: 0.9047 - val_loss: 1.6584 - val_accuracy: 0.6040\n",
      "Epoch 33/50\n",
      "30/30 [==============================] - 74s 2s/step - loss: 0.2726 - accuracy: 0.9017 - val_loss: 1.6499 - val_accuracy: 0.6300\n",
      "Epoch 34/50\n",
      "30/30 [==============================] - 81s 3s/step - loss: 0.2031 - accuracy: 0.9320 - val_loss: 1.9007 - val_accuracy: 0.6070\n",
      "Epoch 35/50\n",
      "30/30 [==============================] - 86s 3s/step - loss: 0.1970 - accuracy: 0.9323 - val_loss: 1.6391 - val_accuracy: 0.6330\n",
      "Epoch 36/50\n",
      "30/30 [==============================] - 74s 2s/step - loss: 0.2164 - accuracy: 0.9222 - val_loss: 1.8410 - val_accuracy: 0.5951\n",
      "Epoch 37/50\n",
      "30/30 [==============================] - 79s 3s/step - loss: 0.1664 - accuracy: 0.9448 - val_loss: 1.7143 - val_accuracy: 0.6508\n",
      "Epoch 38/50\n",
      "30/30 [==============================] - 80s 3s/step - loss: 0.1589 - accuracy: 0.9512 - val_loss: 1.8141 - val_accuracy: 0.6166\n",
      "Epoch 39/50\n",
      "30/30 [==============================] - 77s 3s/step - loss: 0.1647 - accuracy: 0.9428 - val_loss: 2.0704 - val_accuracy: 0.6055\n",
      "Epoch 40/50\n",
      "30/30 [==============================] - 85s 3s/step - loss: 0.1601 - accuracy: 0.9475 - val_loss: 2.5835 - val_accuracy: 0.5847\n",
      "Epoch 41/50\n",
      "30/30 [==============================] - 78s 3s/step - loss: 0.1802 - accuracy: 0.9381 - val_loss: 2.2215 - val_accuracy: 0.5936\n",
      "Epoch 42/50\n",
      "30/30 [==============================] - 85s 3s/step - loss: 0.1610 - accuracy: 0.9465 - val_loss: 1.9502 - val_accuracy: 0.6293\n",
      "Epoch 43/50\n",
      "30/30 [==============================] - 81s 3s/step - loss: 0.1410 - accuracy: 0.9525 - val_loss: 2.0202 - val_accuracy: 0.6114\n",
      "Epoch 44/50\n",
      "30/30 [==============================] - 59s 2s/step - loss: 0.1547 - accuracy: 0.9435 - val_loss: 1.9265 - val_accuracy: 0.6270\n",
      "Epoch 45/50\n",
      "30/30 [==============================] - 176s 6s/step - loss: 0.1291 - accuracy: 0.9525 - val_loss: 1.9617 - val_accuracy: 0.6278\n",
      "Epoch 46/50\n",
      "30/30 [==============================] - 134s 4s/step - loss: 0.1088 - accuracy: 0.9633 - val_loss: 2.0182 - val_accuracy: 0.6256\n",
      "Epoch 47/50\n",
      "30/30 [==============================] - 84s 3s/step - loss: 0.0974 - accuracy: 0.9707 - val_loss: 2.3292 - val_accuracy: 0.6055\n",
      "Epoch 48/50\n",
      "30/30 [==============================] - 82s 3s/step - loss: 0.0897 - accuracy: 0.9694 - val_loss: 2.0185 - val_accuracy: 0.6285\n",
      "Epoch 49/50\n",
      "30/30 [==============================] - 101s 3s/step - loss: 0.0947 - accuracy: 0.9684 - val_loss: 2.2278 - val_accuracy: 0.6233\n",
      "Epoch 50/50\n",
      "30/30 [==============================] - 79s 3s/step - loss: 0.0867 - accuracy: 0.9697 - val_loss: 2.1042 - val_accuracy: 0.6233\n"
     ]
    },
    {
     "data": {
      "text/plain": [
       "<keras.callbacks.History at 0x1b81a197550>"
      ]
     },
     "execution_count": 14,
     "metadata": {},
     "output_type": "execute_result"
    }
   ],
   "source": [
    "# Train model\n",
    "\n",
    "model.fit_generator(xtrain,\n",
    "                    steps_per_epoch=len(xtrain),\n",
    "                    epochs=50,\n",
    "                    validation_data=xtest,\n",
    "                    validation_steps=len(xtest))"
   ]
  },
  {
   "cell_type": "code",
   "execution_count": 15,
   "id": "90da67ad",
   "metadata": {},
   "outputs": [],
   "source": [
    "# Saving model\n",
    "\n",
    "model.save('Flowers.h5')"
   ]
  },
  {
   "cell_type": "code",
   "execution_count": 16,
   "id": "eb93c9cf",
   "metadata": {},
   "outputs": [],
   "source": [
    "# Importing req lib\n",
    "\n",
    "import numpy as np\n",
    "from tensorflow.keras.preprocessing import image"
   ]
  },
  {
   "cell_type": "code",
   "execution_count": 23,
   "id": "519205e3",
   "metadata": {},
   "outputs": [],
   "source": [
    "# Reading the image\n",
    "\n",
    "img = image.load_img('Downloads/Flowers-Dataset/flowers/testing/daisy/102841525_bd6628ae3c.jpg',target_size=(64,64))"
   ]
  },
  {
   "cell_type": "code",
   "execution_count": 24,
   "id": "6a004975",
   "metadata": {},
   "outputs": [
    {
     "data": {
      "image/png": "[encoded data removed]",
      "text/plain": [
       "<PIL.Image.Image image mode=RGB size=64x64 at 0x1B81F439B80>"
      ]
     },
     "execution_count": 24,
     "metadata": {},
     "output_type": "execute_result"
    }
   ],
   "source": [
    "img"
   ]
  },
  {
   "cell_type": "code",
   "execution_count": 25,
   "id": "e92ceca4",
   "metadata": {},
   "outputs": [
    {
     "data": {
      "text/plain": [
       "array([[[180., 178., 157.],\n",
       "        [203., 204., 190.],\n",
       "        [201., 205., 180.],\n",
       "        ...,\n",
       "        [ 17.,  23.,  21.],\n",
       "        [ 12.,  18.,  16.],\n",
       "        [  9.,  13.,  12.]],\n",
       "\n",
       "       [[200., 199., 179.],\n",
       "        [187., 188., 190.],\n",
       "        [190., 195., 189.],\n",
       "        ...,\n",
       "        [105., 117., 115.],\n",
       "        [105., 116., 112.],\n",
       "        [ 69.,  75.,  73.]],\n",
       "\n",
       "       [[130., 132., 121.],\n",
       "        [101., 101.,  99.],\n",
       "        [152., 154., 149.],\n",
       "        ...,\n",
       "        [175., 181., 179.],\n",
       "        [190., 205., 200.],\n",
       "        [144., 157., 150.]],\n",
       "\n",
       "       ...,\n",
       "\n",
       "       [[213., 228., 225.],\n",
       "        [246., 248., 247.],\n",
       "        [236., 240., 239.],\n",
       "        ...,\n",
       "        [245., 247., 242.],\n",
       "        [255., 187.,  31.],\n",
       "        [239., 185.,  14.]],\n",
       "\n",
       "       [[187., 198., 184.],\n",
       "        [ 47.,  61.,  46.],\n",
       "        [ 15.,  26.,   9.],\n",
       "        ...,\n",
       "        [224., 223., 218.],\n",
       "        [243., 250., 243.],\n",
       "        [255., 255., 251.]],\n",
       "\n",
       "       [[ 65.,  80.,  59.],\n",
       "        [ 44.,  57.,  47.],\n",
       "        [ 21.,  34.,  17.],\n",
       "        ...,\n",
       "        [222., 223., 227.],\n",
       "        [231., 231., 231.],\n",
       "        [246., 245., 250.]]], dtype=float32)"
      ]
     },
     "execution_count": 25,
     "metadata": {},
     "output_type": "execute_result"
    }
   ],
   "source": [
    "# Converting image to array\n",
    "\n",
    "x = image.img_to_array(img)\n",
    "x"
   ]
  },
  {
   "cell_type": "code",
   "execution_count": 26,
   "id": "cf3ae98c",
   "metadata": {},
   "outputs": [
    {
     "data": {
      "text/plain": [
       "array([[[[180., 178., 157.],\n",
       "         [203., 204., 190.],\n",
       "         [201., 205., 180.],\n",
       "         ...,\n",
       "         [ 17.,  23.,  21.],\n",
       "         [ 12.,  18.,  16.],\n",
       "         [  9.,  13.,  12.]],\n",
       "\n",
       "        [[200., 199., 179.],\n",
       "         [187., 188., 190.],\n",
       "         [190., 195., 189.],\n",
       "         ...,\n",
       "         [105., 117., 115.],\n",
       "         [105., 116., 112.],\n",
       "         [ 69.,  75.,  73.]],\n",
       "\n",
       "        [[130., 132., 121.],\n",
       "         [101., 101.,  99.],\n",
       "         [152., 154., 149.],\n",
       "         ...,\n",
       "         [175., 181., 179.],\n",
       "         [190., 205., 200.],\n",
       "         [144., 157., 150.]],\n",
       "\n",
       "        ...,\n",
       "\n",
       "        [[213., 228., 225.],\n",
       "         [246., 248., 247.],\n",
       "         [236., 240., 239.],\n",
       "         ...,\n",
       "         [245., 247., 242.],\n",
       "         [255., 187.,  31.],\n",
       "         [239., 185.,  14.]],\n",
       "\n",
       "        [[187., 198., 184.],\n",
       "         [ 47.,  61.,  46.],\n",
       "         [ 15.,  26.,   9.],\n",
       "         ...,\n",
       "         [224., 223., 218.],\n",
       "         [243., 250., 243.],\n",
       "         [255., 255., 251.]],\n",
       "\n",
       "        [[ 65.,  80.,  59.],\n",
       "         [ 44.,  57.,  47.],\n",
       "         [ 21.,  34.,  17.],\n",
       "         ...,\n",
       "         [222., 223., 227.],\n",
       "         [231., 231., 231.],\n",
       "         [246., 245., 250.]]]], dtype=float32)"
      ]
     },
     "execution_count": 26,
     "metadata": {},
     "output_type": "execute_result"
    }
   ],
   "source": [
    "# Expanding dimensions\n",
    "\n",
    "x = np.expand_dims(x,axis=0)\n",
    "x"
   ]
  },
  {
   "cell_type": "code",
   "execution_count": 27,
   "id": "4238d664",
   "metadata": {},
   "outputs": [
    {
     "name": "stdout",
     "output_type": "stream",
     "text": [
      "1/1 [==============================] - 0s 63ms/step\n"
     ]
    },
    {
     "data": {
      "text/plain": [
       "array([[1., 0., 0., 0., 0.]], dtype=float32)"
      ]
     },
     "execution_count": 27,
     "metadata": {},
     "output_type": "execute_result"
    }
   ],
   "source": [
    "# Predicting Flower\n",
    "\n",
    "model.predict(x)"
   ]
  },
  {
   "cell_type": "code",
   "execution_count": 28,
   "id": "eccd3d96",
   "metadata": {},
   "outputs": [
    {
     "data": {
      "text/plain": [
       "{'daisy': 0, 'dandelion': 1, 'rose': 2, 'sunflower': 3, 'tulip': 4}"
      ]
     },
     "execution_count": 28,
     "metadata": {},
     "output_type": "execute_result"
    }
   ],
   "source": [
    "# For visualizing class index\n",
    "\n",
    "xtrain.class_indices"
   ]
  },
  {
   "cell_type": "code",
   "execution_count": 29,
   "id": "417d48de",
   "metadata": {},
   "outputs": [
    {
     "name": "stdout",
     "output_type": "stream",
     "text": [
      "1/1 [==============================] - 0s 63ms/step\n"
     ]
    },
    {
     "data": {
      "text/plain": [
       "'daisy'"
      ]
     },
     "execution_count": 29,
     "metadata": {},
     "output_type": "execute_result"
    }
   ],
   "source": [
    "# Predicting and index matching\n",
    "\n",
    "op = ['daisy','dabdelion','rose','sunflower','tulip']\n",
    "pred = np.argmax(model.predict(x))\n",
    "op[pred]"
   ]
  },
  {
   "cell_type": "code",
   "execution_count": null,
   "id": "c096c681",
   "metadata": {},
   "outputs": [],
   "source": []
  }
 ],
 "metadata": {
  "kernelspec": {
   "display_name": "Python 3 (ipykernel)",
   "language": "python",
   "name": "python3"
  },
  "language_info": {
   "codemirror_mode": {
    "name": "ipython",
    "version": 3
   },
   "file_extension": ".py",
   "mimetype": "text/x-python",
   "name": "python",
   "nbconvert_exporter": "python",
   "pygments_lexer": "ipython3",
   "version": "3.9.12"
  }
 },
 "nbformat": 4,
 "nbformat_minor": 5
}
