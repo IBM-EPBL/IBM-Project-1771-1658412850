{
  "nbformat": 4,
  "nbformat_minor": 0,
  "metadata": {
    "colab": {
      "provenance": [],
      "collapsed_sections": [
        "H_nKyVNFu8aQ",
        "P8M3aNNQEH0g",
        "p0Xvk-kgvLfq",
        "dP5kBXcPx6TZ"
      ]
    },
    "kernelspec": {
      "name": "python3",
      "display_name": "Python 3"
    },
    "language_info": {
      "name": "python"
    },
    "accelerator": "GPU"
  },
  "cells": [
    {
      "cell_type": "markdown",
      "source": [
        "## Unzip and Split Dataset"
      ],
      "metadata": {
        "id": "H_nKyVNFu8aQ"
      }
    },
    {
      "cell_type": "code",
      "source": [
        "!unzip '/content/drive/MyDrive/ibm/Copy of Flowers-Dataset.zip'"
      ],
      "metadata": {
        "colab": {
          "base_uri": "https://localhost:8080/"
        },
        "id": "rBLOzETaxm0O",
        "outputId": "2dcdf664-8216-41bc-9ab2-e2429b7e3340"
      },
      "execution_count": 8,
      "outputs": [
        {
          "output_type": "stream",
          "name": "stdout",
          "text": [
            "Archive:  /content/drive/MyDrive/ibm/Copy of Flowers-Dataset.zip\n",
            "replace flowers/daisy/100080576_f52e8ee070_n.jpg? [y]es, [n]o, [A]ll, [N]one, [r]ename: "
          ]
        }
      ]
    },
    {
      "cell_type": "code",
      "source": [
        "!pip install split-folders"
      ],
      "metadata": {
        "colab": {
          "base_uri": "https://localhost:8080/"
        },
        "id": "58ALVbvh_DjN",
        "outputId": "0c37cc3e-cbef-4fc0-ab97-63016247ec80"
      },
      "execution_count": 9,
      "outputs": [
        {
          "output_type": "stream",
          "name": "stdout",
          "text": [
            "Looking in indexes: https://pypi.org/simple, https://us-python.pkg.dev/colab-wheels/public/simple/\n",
            "Collecting split-folders\n",
            "  Downloading split_folders-0.5.1-py3-none-any.whl (8.4 kB)\n",
            "Installing collected packages: split-folders\n",
            "Successfully installed split-folders-0.5.1\n"
          ]
        }
      ]
    },
    {
      "cell_type": "code",
      "source": [
        "import splitfolders\n",
        "\n",
        "splitfolders.ratio('/content/flowers', output='flowers_split', seed=1337, ratio=(0.75, 0, 0.25))"
      ],
      "metadata": {
        "colab": {
          "base_uri": "https://localhost:8080/"
        },
        "id": "06kzrEeopdA2",
        "outputId": "006f9277-cdda-4dab-dd8a-5a7d35f9105f"
      },
      "execution_count": 10,
      "outputs": [
        {
          "output_type": "stream",
          "name": "stderr",
          "text": [
            "Copying files: 4317 files [00:00, 4811.16 files/s]\n"
          ]
        }
      ]
    },
    {
      "cell_type": "markdown",
      "source": [
        "## Image Augmentation"
      ],
      "metadata": {
        "id": "P8M3aNNQEH0g"
      }
    },
    {
      "cell_type": "code",
      "source": [
        "from tensorflow.keras.preprocessing.image import ImageDataGenerator"
      ],
      "metadata": {
        "id": "HOqXAY3Xxm-I"
      },
      "execution_count": 22,
      "outputs": []
    },
    {
      "cell_type": "code",
      "source": [
        "train_datagen = ImageDataGenerator(rescale=1./255, \n",
        "                                   zoom_range=0.2,\n",
        "                                   horizontal_flip=True)"
      ],
      "metadata": {
        "id": "GLH_ntmuxm_5"
      },
      "execution_count": 23,
      "outputs": []
    },
    {
      "cell_type": "code",
      "source": [
        "test_datagen = ImageDataGenerator(rescale=1./255)"
      ],
      "metadata": {
        "id": "s7GyzxLXxnOC"
      },
      "execution_count": 24,
      "outputs": []
    },
    {
      "cell_type": "code",
      "source": [
        "xtrain = train_datagen.flow_from_directory('/content/flowers_split/train',\n",
        "                                           target_size=(64,64),\n",
        "                                           class_mode='categorical',\n",
        "                                           batch_size=100)"
      ],
      "metadata": {
        "colab": {
          "base_uri": "https://localhost:8080/"
        },
        "id": "4jwihPSlpO9h",
        "outputId": "837686ec-0288-40d4-f7f6-90e0d1c43e4a"
      },
      "execution_count": 25,
      "outputs": [
        {
          "output_type": "stream",
          "name": "stdout",
          "text": [
            "Found 3237 images belonging to 5 classes.\n"
          ]
        }
      ]
    },
    {
      "cell_type": "code",
      "source": [
        "xtest = test_datagen.flow_from_directory('/content/flowers_split/test',\n",
        "                                         target_size=(64,64),\n",
        "                                         class_mode='categorical',\n",
        "                                         batch_size=100)"
      ],
      "metadata": {
        "colab": {
          "base_uri": "https://localhost:8080/"
        },
        "id": "MlOUJ5FrtsBA",
        "outputId": "0e9c0413-0598-4313-9841-5d2616bec1db"
      },
      "execution_count": 15,
      "outputs": [
        {
          "output_type": "stream",
          "name": "stdout",
          "text": [
            "Found 1080 images belonging to 5 classes.\n"
          ]
        }
      ]
    },
    {
      "cell_type": "markdown",
      "source": [
        "## Create Model"
      ],
      "metadata": {
        "id": "p0Xvk-kgvLfq"
      }
    },
    {
      "cell_type": "code",
      "source": [
        "from tensorflow.keras.models import Sequential\n",
        "from tensorflow.keras.layers import Convolution2D, MaxPooling2D, Flatten, Dense"
      ],
      "metadata": {
        "id": "qZo5RRDXuKVn"
      },
      "execution_count": 26,
      "outputs": []
    },
    {
      "cell_type": "code",
      "source": [
        "model = Sequential()"
      ],
      "metadata": {
        "id": "jZLckGBmuKju"
      },
      "execution_count": 27,
      "outputs": []
    },
    {
      "cell_type": "markdown",
      "source": [
        "## Add Layers"
      ],
      "metadata": {
        "id": "dP5kBXcPx6TZ"
      }
    },
    {
      "cell_type": "code",
      "source": [
        "model.add(Convolution2D(32, (3,3), activation='relu', input_shape=(64,64,3)))\n",
        "model.add(MaxPooling2D(pool_size=(2,2)))\n",
        "model.add(Flatten())\n",
        "\n",
        "# Fully Connected Layers (ANN)\n",
        "\n",
        "model.add(Dense(300, activation='relu'))\n",
        "model.add(Dense(150, activation='relu'))\n",
        "\n",
        "# Output Layer\n",
        "\n",
        "model.add(Dense(5, activation='softmax'))"
      ],
      "metadata": {
        "id": "UTKOnszivJu9"
      },
      "execution_count": 28,
      "outputs": []
    },
    {
      "cell_type": "markdown",
      "source": [
        "## Complie Model"
      ],
      "metadata": {
        "id": "RZvUKucAz1eD"
      }
    },
    {
      "cell_type": "code",
      "source": [
        "model.compile(optimizer='adam', loss='categorical_crossentropy', metrics=['accuracy'])"
      ],
      "metadata": {
        "id": "S0sX0ggjzxvc"
      },
      "execution_count": 29,
      "outputs": []
    },
    {
      "cell_type": "markdown",
      "source": [
        "## Fit Model"
      ],
      "metadata": {
        "id": "N6kkZfDY2Knp"
      }
    },
    {
      "cell_type": "code",
      "source": [
        "  model.fit_generator(xtrain, steps_per_epoch=len(xtrain), epochs=50, validation_data=xtest, validation_steps=len(xtest))"
      ],
      "metadata": {
        "colab": {
          "base_uri": "https://localhost:8080/"
        },
        "id": "hCPfZp9c0hkK",
        "outputId": "12557e58-7a24-4d8c-a275-c37ab077e50d"
      },
      "execution_count": 31,
      "outputs": [
        {
          "output_type": "stream",
          "name": "stderr",
          "text": [
            "/usr/local/lib/python3.7/dist-packages/ipykernel_launcher.py:1: UserWarning: `Model.fit_generator` is deprecated and will be removed in a future version. Please use `Model.fit`, which supports generators.\n",
            "  \"\"\"Entry point for launching an IPython kernel.\n"
          ]
        },
        {
          "output_type": "stream",
          "name": "stdout",
          "text": [
            "Epoch 1/50\n",
            "33/33 [==============================] - 13s 381ms/step - loss: 1.8899 - accuracy: 0.3167 - val_loss: 1.3698 - val_accuracy: 0.3787\n",
            "Epoch 2/50\n",
            "33/33 [==============================] - 12s 368ms/step - loss: 1.2094 - accuracy: 0.4801 - val_loss: 1.2368 - val_accuracy: 0.5009\n",
            "Epoch 3/50\n",
            "33/33 [==============================] - 12s 364ms/step - loss: 1.0973 - accuracy: 0.5607 - val_loss: 1.1651 - val_accuracy: 0.5389\n",
            "Epoch 4/50\n",
            "33/33 [==============================] - 12s 367ms/step - loss: 1.0167 - accuracy: 0.6077 - val_loss: 1.0893 - val_accuracy: 0.5833\n",
            "Epoch 5/50\n",
            "33/33 [==============================] - 12s 368ms/step - loss: 0.9562 - accuracy: 0.6333 - val_loss: 1.1085 - val_accuracy: 0.5926\n",
            "Epoch 6/50\n",
            "33/33 [==============================] - 12s 366ms/step - loss: 0.9263 - accuracy: 0.6454 - val_loss: 1.0354 - val_accuracy: 0.6204\n",
            "Epoch 7/50\n",
            "33/33 [==============================] - 13s 408ms/step - loss: 0.8685 - accuracy: 0.6701 - val_loss: 1.0097 - val_accuracy: 0.6241\n",
            "Epoch 8/50\n",
            "33/33 [==============================] - 12s 370ms/step - loss: 0.8552 - accuracy: 0.6728 - val_loss: 0.9832 - val_accuracy: 0.6407\n",
            "Epoch 9/50\n",
            "33/33 [==============================] - 13s 399ms/step - loss: 0.8274 - accuracy: 0.6874 - val_loss: 1.0338 - val_accuracy: 0.6333\n",
            "Epoch 10/50\n",
            "33/33 [==============================] - 12s 367ms/step - loss: 0.7788 - accuracy: 0.7102 - val_loss: 0.9972 - val_accuracy: 0.6361\n",
            "Epoch 11/50\n",
            "33/33 [==============================] - 12s 371ms/step - loss: 0.7916 - accuracy: 0.7013 - val_loss: 1.0091 - val_accuracy: 0.6324\n",
            "Epoch 12/50\n",
            "33/33 [==============================] - 13s 385ms/step - loss: 0.7687 - accuracy: 0.7124 - val_loss: 0.9255 - val_accuracy: 0.6593\n",
            "Epoch 13/50\n",
            "33/33 [==============================] - 12s 380ms/step - loss: 0.7036 - accuracy: 0.7356 - val_loss: 1.1155 - val_accuracy: 0.6148\n",
            "Epoch 14/50\n",
            "33/33 [==============================] - 12s 369ms/step - loss: 0.7036 - accuracy: 0.7390 - val_loss: 1.0047 - val_accuracy: 0.6528\n",
            "Epoch 15/50\n",
            "33/33 [==============================] - 12s 369ms/step - loss: 0.6962 - accuracy: 0.7359 - val_loss: 1.0296 - val_accuracy: 0.6361\n",
            "Epoch 16/50\n",
            "33/33 [==============================] - 12s 376ms/step - loss: 0.6394 - accuracy: 0.7637 - val_loss: 0.9939 - val_accuracy: 0.6611\n",
            "Epoch 17/50\n",
            "33/33 [==============================] - 12s 369ms/step - loss: 0.6027 - accuracy: 0.7773 - val_loss: 1.0428 - val_accuracy: 0.6657\n",
            "Epoch 18/50\n",
            "33/33 [==============================] - 12s 374ms/step - loss: 0.6098 - accuracy: 0.7711 - val_loss: 1.0281 - val_accuracy: 0.6611\n",
            "Epoch 19/50\n",
            "33/33 [==============================] - 13s 388ms/step - loss: 0.5951 - accuracy: 0.7797 - val_loss: 1.0558 - val_accuracy: 0.6630\n",
            "Epoch 20/50\n",
            "33/33 [==============================] - 12s 378ms/step - loss: 0.5661 - accuracy: 0.7865 - val_loss: 1.0109 - val_accuracy: 0.6741\n",
            "Epoch 21/50\n",
            "33/33 [==============================] - 12s 369ms/step - loss: 0.5478 - accuracy: 0.8054 - val_loss: 1.0244 - val_accuracy: 0.6704\n",
            "Epoch 22/50\n",
            "33/33 [==============================] - 12s 368ms/step - loss: 0.5069 - accuracy: 0.8162 - val_loss: 1.0032 - val_accuracy: 0.6694\n",
            "Epoch 23/50\n",
            "33/33 [==============================] - 12s 363ms/step - loss: 0.4890 - accuracy: 0.8211 - val_loss: 1.0991 - val_accuracy: 0.6537\n",
            "Epoch 24/50\n",
            "33/33 [==============================] - 12s 365ms/step - loss: 0.4720 - accuracy: 0.8292 - val_loss: 1.0592 - val_accuracy: 0.6796\n",
            "Epoch 25/50\n",
            "33/33 [==============================] - 13s 406ms/step - loss: 0.4606 - accuracy: 0.8347 - val_loss: 1.1412 - val_accuracy: 0.6602\n",
            "Epoch 26/50\n",
            "33/33 [==============================] - 12s 370ms/step - loss: 0.4372 - accuracy: 0.8394 - val_loss: 1.0727 - val_accuracy: 0.6685\n",
            "Epoch 27/50\n",
            "33/33 [==============================] - 12s 368ms/step - loss: 0.4041 - accuracy: 0.8530 - val_loss: 1.1802 - val_accuracy: 0.6509\n",
            "Epoch 28/50\n",
            "33/33 [==============================] - 12s 364ms/step - loss: 0.3860 - accuracy: 0.8644 - val_loss: 1.1739 - val_accuracy: 0.6694\n",
            "Epoch 29/50\n",
            "33/33 [==============================] - 12s 365ms/step - loss: 0.3809 - accuracy: 0.8659 - val_loss: 1.1872 - val_accuracy: 0.6685\n",
            "Epoch 30/50\n",
            "33/33 [==============================] - 12s 364ms/step - loss: 0.3530 - accuracy: 0.8693 - val_loss: 1.1921 - val_accuracy: 0.6769\n",
            "Epoch 31/50\n",
            "33/33 [==============================] - 12s 368ms/step - loss: 0.3312 - accuracy: 0.8857 - val_loss: 1.3803 - val_accuracy: 0.6231\n",
            "Epoch 32/50\n",
            "33/33 [==============================] - 12s 371ms/step - loss: 0.3296 - accuracy: 0.8857 - val_loss: 1.2168 - val_accuracy: 0.6722\n",
            "Epoch 33/50\n",
            "33/33 [==============================] - 13s 386ms/step - loss: 0.2908 - accuracy: 0.8962 - val_loss: 1.2860 - val_accuracy: 0.6796\n",
            "Epoch 34/50\n",
            "33/33 [==============================] - 12s 364ms/step - loss: 0.2899 - accuracy: 0.9008 - val_loss: 1.3317 - val_accuracy: 0.6620\n",
            "Epoch 35/50\n",
            "33/33 [==============================] - 13s 393ms/step - loss: 0.2761 - accuracy: 0.9021 - val_loss: 1.2768 - val_accuracy: 0.6907\n",
            "Epoch 36/50\n",
            "33/33 [==============================] - 12s 381ms/step - loss: 0.2639 - accuracy: 0.9104 - val_loss: 1.3888 - val_accuracy: 0.6537\n",
            "Epoch 37/50\n",
            "33/33 [==============================] - 12s 368ms/step - loss: 0.2703 - accuracy: 0.9089 - val_loss: 1.4094 - val_accuracy: 0.6685\n",
            "Epoch 38/50\n",
            "33/33 [==============================] - 12s 380ms/step - loss: 0.2410 - accuracy: 0.9191 - val_loss: 1.3493 - val_accuracy: 0.6787\n",
            "Epoch 39/50\n",
            "33/33 [==============================] - 12s 367ms/step - loss: 0.2458 - accuracy: 0.9120 - val_loss: 1.4614 - val_accuracy: 0.6685\n",
            "Epoch 40/50\n",
            "33/33 [==============================] - 12s 370ms/step - loss: 0.2260 - accuracy: 0.9249 - val_loss: 1.3632 - val_accuracy: 0.6843\n",
            "Epoch 41/50\n",
            "33/33 [==============================] - 12s 368ms/step - loss: 0.2271 - accuracy: 0.9249 - val_loss: 1.5064 - val_accuracy: 0.6833\n",
            "Epoch 42/50\n",
            "33/33 [==============================] - 13s 382ms/step - loss: 0.2203 - accuracy: 0.9203 - val_loss: 1.5037 - val_accuracy: 0.6713\n",
            "Epoch 43/50\n",
            "33/33 [==============================] - 14s 427ms/step - loss: 0.1946 - accuracy: 0.9305 - val_loss: 1.6295 - val_accuracy: 0.6417\n",
            "Epoch 44/50\n",
            "33/33 [==============================] - 12s 371ms/step - loss: 0.1958 - accuracy: 0.9367 - val_loss: 1.5244 - val_accuracy: 0.6815\n",
            "Epoch 45/50\n",
            "33/33 [==============================] - 12s 368ms/step - loss: 0.1844 - accuracy: 0.9367 - val_loss: 1.5351 - val_accuracy: 0.6907\n",
            "Epoch 46/50\n",
            "33/33 [==============================] - 12s 367ms/step - loss: 0.1938 - accuracy: 0.9302 - val_loss: 1.5783 - val_accuracy: 0.6759\n",
            "Epoch 47/50\n",
            "33/33 [==============================] - 12s 366ms/step - loss: 0.1756 - accuracy: 0.9410 - val_loss: 1.6745 - val_accuracy: 0.6722\n",
            "Epoch 48/50\n",
            "33/33 [==============================] - 12s 366ms/step - loss: 0.1726 - accuracy: 0.9410 - val_loss: 1.6015 - val_accuracy: 0.6713\n",
            "Epoch 49/50\n",
            "33/33 [==============================] - 12s 364ms/step - loss: 0.1441 - accuracy: 0.9524 - val_loss: 1.5571 - val_accuracy: 0.6833\n",
            "Epoch 50/50\n",
            "33/33 [==============================] - 12s 365ms/step - loss: 0.1561 - accuracy: 0.9453 - val_loss: 1.6568 - val_accuracy: 0.6676\n"
          ]
        },
        {
          "output_type": "execute_result",
          "data": {
            "text/plain": [
              "<keras.callbacks.History at 0x7f24904cc450>"
            ]
          },
          "metadata": {},
          "execution_count": 31
        }
      ]
    },
    {
      "cell_type": "markdown",
      "source": [
        "## Save Model"
      ],
      "metadata": {
        "id": "vXuenCC32QWT"
      }
    },
    {
      "cell_type": "code",
      "source": [
        "model.save('flowers.h5')"
      ],
      "metadata": {
        "id": "DnszKw952BEp"
      },
      "execution_count": 32,
      "outputs": []
    },
    {
      "cell_type": "markdown",
      "source": [
        "## Test Model"
      ],
      "metadata": {
        "id": "Rbkthxhz-EzD"
      }
    },
    {
      "cell_type": "code",
      "source": [
        "import numpy as np\n",
        "from tensorflow.keras.preprocessing import image"
      ],
      "metadata": {
        "id": "pEpHJOfC94HS"
      },
      "execution_count": 33,
      "outputs": []
    },
    {
      "cell_type": "code",
      "source": [
        "# Load Image\n",
        "\n",
        "img = image.load_img('/content/flowers_split/train/tulip/13979840624_28466cb3ec_n.jpg', target_size=(64,64))"
      ],
      "metadata": {
        "id": "CKEymxIE2BSv"
      },
      "execution_count": 45,
      "outputs": []
    },
    {
      "cell_type": "code",
      "source": [
        "img"
      ],
      "metadata": {
        "colab": {
          "base_uri": "https://localhost:8080/",
          "height": 81
        },
        "id": "PlICmnzNCzIg",
        "outputId": "fa7c88b1-5ea1-429e-bd35-86aee86a3d81"
      },
      "execution_count": 46,
      "outputs": [
        {
          "output_type": "execute_result",
          "data": {
            "text/plain": [
              "<PIL.Image.Image image mode=RGB size=64x64 at 0x7F24900EBCD0>"
            ],
            "image/png": "[encoded data removed]"
          },
          "metadata": {},
          "execution_count": 46
        }
      ]
    },
    {
      "cell_type": "code",
      "source": [
        "# Converting Image to Array\n",
        "\n",
        "imgToArray = image.img_to_array(img)"
      ],
      "metadata": {
        "id": "2luGqMkJAfOE"
      },
      "execution_count": 47,
      "outputs": []
    },
    {
      "cell_type": "code",
      "source": [
        "# Expanding Dimension\n",
        "\n",
        "imgToArray = np.expand_dims(imgToArray, axis=0)"
      ],
      "metadata": {
        "id": "gqmxiareAuAy"
      },
      "execution_count": 48,
      "outputs": []
    },
    {
      "cell_type": "code",
      "source": [
        "model.predict(imgToArray)"
      ],
      "metadata": {
        "colab": {
          "base_uri": "https://localhost:8080/"
        },
        "id": "zs9nhBQpCcxQ",
        "outputId": "b895c3ec-7f84-43ec-de1a-75d436db39c0"
      },
      "execution_count": 49,
      "outputs": [
        {
          "output_type": "execute_result",
          "data": {
            "text/plain": [
              "array([[0., 0., 0., 0., 1.]], dtype=float32)"
            ]
          },
          "metadata": {},
          "execution_count": 49
        }
      ]
    },
    {
      "cell_type": "code",
      "source": [
        "xtrain.class_indices"
      ],
      "metadata": {
        "colab": {
          "base_uri": "https://localhost:8080/"
        },
        "id": "KsXmxkXzD7Ud",
        "outputId": "89733570-dd09-4b1d-e41d-4e4e8caf3863"
      },
      "execution_count": 50,
      "outputs": [
        {
          "output_type": "execute_result",
          "data": {
            "text/plain": [
              "{'daisy': 0, 'dandelion': 1, 'rose': 2, 'sunflower': 3, 'tulip': 4}"
            ]
          },
          "metadata": {},
          "execution_count": 50
        }
      ]
    },
    {
      "cell_type": "code",
      "source": [
        "output = ['daisy', 'dandelion', 'rose', 'sunflower', 'tulip'  ]\n",
        "predict = np.argmax(model.predict(imgToArray))\n",
        "output[predict]"
      ],
      "metadata": {
        "colab": {
          "base_uri": "https://localhost:8080/",
          "height": 35
        },
        "id": "VZIiTmmBD2ef",
        "outputId": "432e0f51-0d1a-4f2a-b14a-299fb0a66447"
      },
      "execution_count": 51,
      "outputs": [
        {
          "output_type": "execute_result",
          "data": {
            "text/plain": [
              "'tulip'"
            ],
            "application/vnd.google.colaboratory.intrinsic+json": {
              "type": "string"
            }
          },
          "metadata": {},
          "execution_count": 51
        }
      ]
    }
  ]
}
