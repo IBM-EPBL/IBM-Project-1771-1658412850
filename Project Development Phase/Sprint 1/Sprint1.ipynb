{
  "nbformat": 4,
  "nbformat_minor": 0,
  "metadata": {
    "colab": {
      "provenance": []
    },
    "kernelspec": {
      "name": "python3",
      "display_name": "Python 3"
    },
    "language_info": {
      "name": "python"
    },
    "accelerator": "GPU",
    "gpuClass": "standard"
  },
  "cells": [
    {
      "cell_type": "code",
      "execution_count": null,
      "metadata": {
        "id": "seGOtrofp-5I"
      },
      "outputs": [],
      "source": [
        "from tensorflow.keras.preprocessing.image import ImageDataGenerator"
      ]
    },
    {
      "cell_type": "code",
      "source": [
        "traindata = ImageDataGenerator(rescale=1./255,\n",
        "                             zoom_range=0.2,\n",
        "                             horizontal_flip=True,\n",
        "                              rotation_range=260,\n",
        "                                vertical_flip=True,\n",
        "                               fill_mode='reflect',\n",
        "                               validation_split=0.2)"
      ],
      "metadata": {
        "id": "FyhpOLB8qi1W"
      },
      "execution_count": null,
      "outputs": []
    },
    {
      "cell_type": "code",
      "source": [
        "testdata = ImageDataGenerator (rescale=1./255)"
      ],
      "metadata": {
        "id": "JsRanwNiqmTg"
      },
      "execution_count": null,
      "outputs": []
    },
    {
      "cell_type": "code",
      "source": [
        "x_train = traindata.flow_from_directory('/content/Dataset/Dataset/train_set',\n",
        "                                        target_size = (64,64),\n",
        "                                        class_mode ='categorical',\n",
        "                                        batch_size = 100,\n",
        "                                         shuffle=True)"
      ],
      "metadata": {
        "colab": {
          "base_uri": "https://localhost:8080/"
        },
        "id": "GHMQK8JUqotX",
        "outputId": "33877003-2e7b-44e0-a1f9-a0a1d3f18caa"
      },
      "execution_count": null,
      "outputs": [
        {
          "output_type": "stream",
          "name": "stdout",
          "text": [
            "Found 436 images belonging to 2 classes.\n"
          ]
        }
      ]
    },
    {
      "cell_type": "code",
      "source": [
        "x_test = testdata.flow_from_directory(\"/content/Dataset/Dataset/test_set\",\n",
        "                                      target_size=(64,64),\n",
        "                                      class_mode = 'categorical',\n",
        "                                      batch_size = 100,\n",
        "                                      shuffle=True)"
      ],
      "metadata": {
        "colab": {
          "base_uri": "https://localhost:8080/"
        },
        "id": "LyVF6fycqro-",
        "outputId": "5c0d9af3-2511-429b-9c69-bed72a9d3d2f"
      },
      "execution_count": null,
      "outputs": [
        {
          "output_type": "stream",
          "name": "stdout",
          "text": [
            "Found 121 images belonging to 2 classes.\n"
          ]
        }
      ]
    },
    {
      "cell_type": "code",
      "source": [
        "from tensorflow.keras.models import Sequential\n",
        "from tensorflow.keras.layers import Convolution2D,Dense,MaxPooling2D,Flatten"
      ],
      "metadata": {
        "id": "cpb6hxBBq4Er"
      },
      "execution_count": null,
      "outputs": []
    },
    {
      "cell_type": "code",
      "source": [
        "model = Sequential()"
      ],
      "metadata": {
        "id": "AX1DyBVSq7na"
      },
      "execution_count": null,
      "outputs": []
    },
    {
      "cell_type": "code",
      "source": [
        "model.add(Convolution2D(32,(3,3),activation='relu',input_shape=(64,64,3)))\n",
        "model.add(MaxPooling2D(pool_size=(2, 2)))\n",
        "model.add(Flatten())"
      ],
      "metadata": {
        "id": "5KknM1xqq94j"
      },
      "execution_count": null,
      "outputs": []
    },
    {
      "cell_type": "code",
      "source": [
        "model.add(Dense(300,activation='relu'))\n",
        "model.add(Dense(450,activation='relu'))\n",
        "model.add(Dense(500,activation='relu'))\n",
        "model.add(Dense(2,activation='softmax'))"
      ],
      "metadata": {
        "id": "J40nL2-FrAWR"
      },
      "execution_count": null,
      "outputs": []
    },
    {
      "cell_type": "code",
      "source": [
        "#compile\n",
        "model.compile(optimizer='Adam',loss=\"categorical_crossentropy\",metrics=['accuracy'])"
      ],
      "metadata": {
        "id": "DGzia7rErDYE"
      },
      "execution_count": null,
      "outputs": []
    },
    {
      "cell_type": "code",
      "source": [
        "#train\n",
        "model.fit_generator(x_train,steps_per_epoch=len(x_train),epochs=100,\n",
        "                    validation_data=x_test, \n",
        "                    validation_steps=len(x_test))"
      ],
      "metadata": {
        "colab": {
          "base_uri": "https://localhost:8080/"
        },
        "id": "Ut1zbhi4rFkC",
        "outputId": "24419a47-32f8-4002-8573-15bffc17a78a"
      },
      "execution_count": null,
      "outputs": [
        {
          "metadata": {
            "tags": null
          },
          "name": "stderr",
          "output_type": "stream",
          "text": [
            "/usr/local/lib/python3.7/dist-packages/ipykernel_launcher.py:4: UserWarning: `Model.fit_generator` is deprecated and will be removed in a future version. Please use `Model.fit`, which supports generators.\n",
            "  after removing the cwd from sys.path.\n"
          ]
        },
        {
          "output_type": "stream",
          "name": "stdout",
          "text": [
            "Epoch 1/100\n",
            "5/5 [==============================] - 24s 3s/step - loss: 0.7869 - accuracy: 0.5940 - val_loss: 0.6799 - val_accuracy: 0.5041\n",
            "Epoch 2/100\n",
            "5/5 [==============================] - 14s 3s/step - loss: 0.5546 - accuracy: 0.7133 - val_loss: 0.3477 - val_accuracy: 0.8843\n",
            "Epoch 3/100\n",
            "5/5 [==============================] - 15s 3s/step - loss: 0.4339 - accuracy: 0.7982 - val_loss: 0.1754 - val_accuracy: 0.9339\n",
            "Epoch 4/100\n",
            "5/5 [==============================] - 15s 3s/step - loss: 0.3026 - accuracy: 0.8761 - val_loss: 0.1413 - val_accuracy: 0.9339\n",
            "Epoch 5/100\n",
            "5/5 [==============================] - 14s 3s/step - loss: 0.2416 - accuracy: 0.8876 - val_loss: 0.1064 - val_accuracy: 0.9669\n",
            "Epoch 6/100\n",
            "5/5 [==============================] - 14s 3s/step - loss: 0.2136 - accuracy: 0.9106 - val_loss: 0.1076 - val_accuracy: 0.9504\n",
            "Epoch 7/100\n",
            "5/5 [==============================] - 14s 3s/step - loss: 0.1912 - accuracy: 0.9128 - val_loss: 0.0931 - val_accuracy: 0.9669\n",
            "Epoch 8/100\n",
            "5/5 [==============================] - 14s 3s/step - loss: 0.2160 - accuracy: 0.8991 - val_loss: 0.1739 - val_accuracy: 0.9256\n",
            "Epoch 9/100\n",
            "5/5 [==============================] - 15s 3s/step - loss: 0.2252 - accuracy: 0.8991 - val_loss: 0.2059 - val_accuracy: 0.8926\n",
            "Epoch 10/100\n",
            "5/5 [==============================] - 14s 3s/step - loss: 0.2148 - accuracy: 0.8830 - val_loss: 0.1322 - val_accuracy: 0.9504\n",
            "Epoch 11/100\n",
            "5/5 [==============================] - 14s 3s/step - loss: 0.2196 - accuracy: 0.9014 - val_loss: 0.1032 - val_accuracy: 0.9504\n",
            "Epoch 12/100\n",
            "5/5 [==============================] - 14s 3s/step - loss: 0.1668 - accuracy: 0.9427 - val_loss: 0.0863 - val_accuracy: 0.9752\n",
            "Epoch 13/100\n",
            "5/5 [==============================] - 15s 3s/step - loss: 0.1861 - accuracy: 0.9128 - val_loss: 0.0775 - val_accuracy: 0.9752\n",
            "Epoch 14/100\n",
            "5/5 [==============================] - 14s 3s/step - loss: 0.1596 - accuracy: 0.9312 - val_loss: 0.0812 - val_accuracy: 0.9752\n",
            "Epoch 15/100\n",
            "5/5 [==============================] - 15s 3s/step - loss: 0.1537 - accuracy: 0.9358 - val_loss: 0.0724 - val_accuracy: 0.9835\n",
            "Epoch 16/100\n",
            "5/5 [==============================] - 14s 3s/step - loss: 0.1599 - accuracy: 0.9335 - val_loss: 0.0817 - val_accuracy: 0.9752\n",
            "Epoch 17/100\n",
            "5/5 [==============================] - 14s 3s/step - loss: 0.1744 - accuracy: 0.9335 - val_loss: 0.0580 - val_accuracy: 0.9835\n",
            "Epoch 18/100\n",
            "5/5 [==============================] - 15s 3s/step - loss: 0.1689 - accuracy: 0.9266 - val_loss: 0.0702 - val_accuracy: 0.9669\n",
            "Epoch 19/100\n",
            "5/5 [==============================] - 14s 3s/step - loss: 0.1786 - accuracy: 0.9106 - val_loss: 0.0879 - val_accuracy: 0.9669\n",
            "Epoch 20/100\n",
            "5/5 [==============================] - 14s 3s/step - loss: 0.1607 - accuracy: 0.9220 - val_loss: 0.0619 - val_accuracy: 0.9752\n",
            "Epoch 21/100\n",
            "5/5 [==============================] - 14s 3s/step - loss: 0.1512 - accuracy: 0.9335 - val_loss: 0.0534 - val_accuracy: 0.9835\n",
            "Epoch 22/100\n",
            "5/5 [==============================] - 14s 3s/step - loss: 0.1817 - accuracy: 0.9197 - val_loss: 0.0858 - val_accuracy: 0.9669\n",
            "Epoch 23/100\n",
            "5/5 [==============================] - 14s 3s/step - loss: 0.1709 - accuracy: 0.9197 - val_loss: 0.0621 - val_accuracy: 0.9752\n",
            "Epoch 24/100\n",
            "5/5 [==============================] - 14s 3s/step - loss: 0.1585 - accuracy: 0.9266 - val_loss: 0.0712 - val_accuracy: 0.9752\n",
            "Epoch 25/100\n",
            "5/5 [==============================] - 15s 3s/step - loss: 0.1313 - accuracy: 0.9450 - val_loss: 0.0532 - val_accuracy: 0.9752\n",
            "Epoch 26/100\n",
            "5/5 [==============================] - 15s 3s/step - loss: 0.1239 - accuracy: 0.9450 - val_loss: 0.0462 - val_accuracy: 0.9835\n",
            "Epoch 27/100\n",
            "5/5 [==============================] - 14s 3s/step - loss: 0.1218 - accuracy: 0.9495 - val_loss: 0.0422 - val_accuracy: 0.9835\n",
            "Epoch 28/100\n",
            "5/5 [==============================] - 14s 3s/step - loss: 0.1216 - accuracy: 0.9450 - val_loss: 0.0564 - val_accuracy: 0.9835\n",
            "Epoch 29/100\n",
            "5/5 [==============================] - 14s 3s/step - loss: 0.1356 - accuracy: 0.9450 - val_loss: 0.0546 - val_accuracy: 0.9835\n",
            "Epoch 30/100\n",
            "5/5 [==============================] - 14s 3s/step - loss: 0.1225 - accuracy: 0.9427 - val_loss: 0.0602 - val_accuracy: 0.9752\n",
            "Epoch 31/100\n",
            "5/5 [==============================] - 14s 3s/step - loss: 0.1136 - accuracy: 0.9472 - val_loss: 0.0482 - val_accuracy: 0.9752\n",
            "Epoch 32/100\n",
            "5/5 [==============================] - 15s 3s/step - loss: 0.1342 - accuracy: 0.9404 - val_loss: 0.0297 - val_accuracy: 1.0000\n",
            "Epoch 33/100\n",
            "5/5 [==============================] - 14s 3s/step - loss: 0.1141 - accuracy: 0.9495 - val_loss: 0.0416 - val_accuracy: 0.9835\n",
            "Epoch 34/100\n",
            "5/5 [==============================] - 14s 3s/step - loss: 0.1223 - accuracy: 0.9472 - val_loss: 0.0351 - val_accuracy: 0.9835\n",
            "Epoch 35/100\n",
            "5/5 [==============================] - 14s 3s/step - loss: 0.1091 - accuracy: 0.9450 - val_loss: 0.0218 - val_accuracy: 1.0000\n",
            "Epoch 36/100\n",
            "5/5 [==============================] - 14s 3s/step - loss: 0.1147 - accuracy: 0.9564 - val_loss: 0.0353 - val_accuracy: 0.9835\n",
            "Epoch 37/100\n",
            "5/5 [==============================] - 15s 3s/step - loss: 0.0993 - accuracy: 0.9587 - val_loss: 0.0878 - val_accuracy: 0.9669\n",
            "Epoch 38/100\n",
            "5/5 [==============================] - 14s 3s/step - loss: 0.1559 - accuracy: 0.9404 - val_loss: 0.0381 - val_accuracy: 0.9917\n",
            "Epoch 39/100\n",
            "5/5 [==============================] - 14s 3s/step - loss: 0.1361 - accuracy: 0.9358 - val_loss: 0.0372 - val_accuracy: 0.9835\n",
            "Epoch 40/100\n",
            "5/5 [==============================] - 14s 3s/step - loss: 0.1053 - accuracy: 0.9518 - val_loss: 0.0440 - val_accuracy: 0.9917\n",
            "Epoch 41/100\n",
            "5/5 [==============================] - 14s 3s/step - loss: 0.0994 - accuracy: 0.9564 - val_loss: 0.0216 - val_accuracy: 0.9917\n",
            "Epoch 42/100\n",
            "5/5 [==============================] - 14s 3s/step - loss: 0.0818 - accuracy: 0.9679 - val_loss: 0.0174 - val_accuracy: 0.9917\n",
            "Epoch 43/100\n",
            "5/5 [==============================] - 14s 3s/step - loss: 0.0903 - accuracy: 0.9610 - val_loss: 0.0191 - val_accuracy: 0.9917\n",
            "Epoch 44/100\n",
            "5/5 [==============================] - 14s 3s/step - loss: 0.0802 - accuracy: 0.9633 - val_loss: 0.0126 - val_accuracy: 0.9917\n",
            "Epoch 45/100\n",
            "5/5 [==============================] - 14s 3s/step - loss: 0.0872 - accuracy: 0.9610 - val_loss: 0.0127 - val_accuracy: 1.0000\n",
            "Epoch 46/100\n",
            "5/5 [==============================] - 14s 3s/step - loss: 0.0962 - accuracy: 0.9702 - val_loss: 0.0497 - val_accuracy: 0.9587\n",
            "Epoch 47/100\n",
            "5/5 [==============================] - 14s 3s/step - loss: 0.1282 - accuracy: 0.9450 - val_loss: 0.0282 - val_accuracy: 0.9917\n",
            "Epoch 48/100\n",
            "5/5 [==============================] - 14s 3s/step - loss: 0.1075 - accuracy: 0.9495 - val_loss: 0.0113 - val_accuracy: 1.0000\n",
            "Epoch 49/100\n",
            "5/5 [==============================] - 14s 3s/step - loss: 0.1375 - accuracy: 0.9541 - val_loss: 0.0837 - val_accuracy: 0.9587\n",
            "Epoch 50/100\n",
            "5/5 [==============================] - 16s 3s/step - loss: 0.1356 - accuracy: 0.9404 - val_loss: 0.0643 - val_accuracy: 0.9669\n",
            "Epoch 51/100\n",
            "5/5 [==============================] - 14s 3s/step - loss: 0.1297 - accuracy: 0.9381 - val_loss: 0.0694 - val_accuracy: 0.9752\n",
            "Epoch 52/100\n",
            "5/5 [==============================] - 14s 3s/step - loss: 0.1215 - accuracy: 0.9450 - val_loss: 0.0387 - val_accuracy: 0.9917\n",
            "Epoch 53/100\n",
            "5/5 [==============================] - 14s 3s/step - loss: 0.1109 - accuracy: 0.9587 - val_loss: 0.0435 - val_accuracy: 0.9835\n",
            "Epoch 54/100\n",
            "5/5 [==============================] - 14s 3s/step - loss: 0.0996 - accuracy: 0.9541 - val_loss: 0.0503 - val_accuracy: 0.9835\n",
            "Epoch 55/100\n",
            "5/5 [==============================] - 14s 3s/step - loss: 0.1095 - accuracy: 0.9495 - val_loss: 0.1590 - val_accuracy: 0.9421\n",
            "Epoch 56/100\n",
            "5/5 [==============================] - 14s 3s/step - loss: 0.1627 - accuracy: 0.9358 - val_loss: 0.0373 - val_accuracy: 0.9917\n",
            "Epoch 57/100\n",
            "5/5 [==============================] - 14s 3s/step - loss: 0.1001 - accuracy: 0.9564 - val_loss: 0.0554 - val_accuracy: 0.9752\n",
            "Epoch 58/100\n",
            "5/5 [==============================] - 14s 3s/step - loss: 0.1027 - accuracy: 0.9587 - val_loss: 0.0478 - val_accuracy: 0.9752\n",
            "Epoch 59/100\n",
            "5/5 [==============================] - 14s 3s/step - loss: 0.1027 - accuracy: 0.9495 - val_loss: 0.0395 - val_accuracy: 0.9835\n",
            "Epoch 60/100\n",
            "5/5 [==============================] - 14s 3s/step - loss: 0.1168 - accuracy: 0.9610 - val_loss: 0.0246 - val_accuracy: 0.9917\n",
            "Epoch 61/100\n",
            "5/5 [==============================] - 14s 3s/step - loss: 0.0927 - accuracy: 0.9541 - val_loss: 0.0269 - val_accuracy: 0.9917\n",
            "Epoch 62/100\n",
            "5/5 [==============================] - 14s 3s/step - loss: 0.0878 - accuracy: 0.9610 - val_loss: 0.0199 - val_accuracy: 0.9917\n",
            "Epoch 63/100\n",
            "5/5 [==============================] - 14s 3s/step - loss: 0.0783 - accuracy: 0.9748 - val_loss: 0.0138 - val_accuracy: 0.9917\n",
            "Epoch 64/100\n",
            "5/5 [==============================] - 14s 3s/step - loss: 0.0935 - accuracy: 0.9679 - val_loss: 0.0211 - val_accuracy: 0.9917\n",
            "Epoch 65/100\n",
            "5/5 [==============================] - 14s 3s/step - loss: 0.0849 - accuracy: 0.9587 - val_loss: 0.0186 - val_accuracy: 0.9917\n",
            "Epoch 66/100\n",
            "5/5 [==============================] - 14s 3s/step - loss: 0.0696 - accuracy: 0.9656 - val_loss: 0.0176 - val_accuracy: 0.9917\n",
            "Epoch 67/100\n",
            "5/5 [==============================] - 14s 3s/step - loss: 0.0913 - accuracy: 0.9656 - val_loss: 0.0120 - val_accuracy: 0.9917\n",
            "Epoch 68/100\n",
            "5/5 [==============================] - 14s 3s/step - loss: 0.1035 - accuracy: 0.9564 - val_loss: 0.0107 - val_accuracy: 1.0000\n",
            "Epoch 69/100\n",
            "5/5 [==============================] - 14s 3s/step - loss: 0.0936 - accuracy: 0.9610 - val_loss: 0.0105 - val_accuracy: 1.0000\n",
            "Epoch 70/100\n",
            "5/5 [==============================] - 14s 3s/step - loss: 0.0826 - accuracy: 0.9748 - val_loss: 0.0401 - val_accuracy: 0.9835\n",
            "Epoch 71/100\n",
            "5/5 [==============================] - 14s 3s/step - loss: 0.1130 - accuracy: 0.9541 - val_loss: 0.0277 - val_accuracy: 0.9917\n",
            "Epoch 72/100\n",
            "5/5 [==============================] - 14s 3s/step - loss: 0.0807 - accuracy: 0.9679 - val_loss: 0.0242 - val_accuracy: 0.9917\n",
            "Epoch 73/100\n",
            "5/5 [==============================] - 14s 3s/step - loss: 0.0750 - accuracy: 0.9679 - val_loss: 0.0070 - val_accuracy: 1.0000\n",
            "Epoch 74/100\n",
            "5/5 [==============================] - 14s 3s/step - loss: 0.0849 - accuracy: 0.9633 - val_loss: 0.0047 - val_accuracy: 1.0000\n",
            "Epoch 75/100\n",
            "5/5 [==============================] - 14s 3s/step - loss: 0.0803 - accuracy: 0.9656 - val_loss: 0.0097 - val_accuracy: 1.0000\n",
            "Epoch 76/100\n",
            "5/5 [==============================] - 14s 3s/step - loss: 0.1000 - accuracy: 0.9610 - val_loss: 0.0689 - val_accuracy: 0.9669\n",
            "Epoch 77/100\n",
            "5/5 [==============================] - 14s 3s/step - loss: 0.1363 - accuracy: 0.9335 - val_loss: 0.0501 - val_accuracy: 0.9752\n",
            "Epoch 78/100\n",
            "5/5 [==============================] - 14s 3s/step - loss: 0.1194 - accuracy: 0.9404 - val_loss: 0.0378 - val_accuracy: 0.9835\n",
            "Epoch 79/100\n",
            "5/5 [==============================] - 14s 3s/step - loss: 0.0800 - accuracy: 0.9679 - val_loss: 0.0107 - val_accuracy: 0.9917\n",
            "Epoch 80/100\n",
            "5/5 [==============================] - 14s 3s/step - loss: 0.0844 - accuracy: 0.9656 - val_loss: 0.0106 - val_accuracy: 0.9917\n",
            "Epoch 81/100\n",
            "5/5 [==============================] - 14s 3s/step - loss: 0.0688 - accuracy: 0.9702 - val_loss: 0.0054 - val_accuracy: 1.0000\n",
            "Epoch 82/100\n",
            "5/5 [==============================] - 14s 3s/step - loss: 0.0698 - accuracy: 0.9679 - val_loss: 0.0060 - val_accuracy: 1.0000\n",
            "Epoch 83/100\n",
            "5/5 [==============================] - 14s 3s/step - loss: 0.0630 - accuracy: 0.9794 - val_loss: 0.0035 - val_accuracy: 1.0000\n",
            "Epoch 84/100\n",
            "5/5 [==============================] - 14s 3s/step - loss: 0.0514 - accuracy: 0.9817 - val_loss: 0.0093 - val_accuracy: 0.9917\n",
            "Epoch 85/100\n",
            "5/5 [==============================] - 14s 3s/step - loss: 0.0694 - accuracy: 0.9702 - val_loss: 0.0054 - val_accuracy: 1.0000\n",
            "Epoch 86/100\n",
            "5/5 [==============================] - 14s 3s/step - loss: 0.0789 - accuracy: 0.9725 - val_loss: 0.0227 - val_accuracy: 0.9917\n",
            "Epoch 87/100\n",
            "5/5 [==============================] - 14s 3s/step - loss: 0.0802 - accuracy: 0.9771 - val_loss: 0.0115 - val_accuracy: 1.0000\n",
            "Epoch 88/100\n",
            "5/5 [==============================] - 14s 3s/step - loss: 0.0601 - accuracy: 0.9794 - val_loss: 0.0098 - val_accuracy: 0.9917\n",
            "Epoch 89/100\n",
            "5/5 [==============================] - 14s 3s/step - loss: 0.0508 - accuracy: 0.9794 - val_loss: 0.0062 - val_accuracy: 1.0000\n",
            "Epoch 90/100\n",
            "5/5 [==============================] - 14s 3s/step - loss: 0.0364 - accuracy: 0.9931 - val_loss: 0.0223 - val_accuracy: 0.9917\n",
            "Epoch 91/100\n",
            "5/5 [==============================] - 14s 3s/step - loss: 0.0450 - accuracy: 0.9839 - val_loss: 0.0058 - val_accuracy: 1.0000\n",
            "Epoch 92/100\n",
            "5/5 [==============================] - 14s 3s/step - loss: 0.0404 - accuracy: 0.9794 - val_loss: 0.0114 - val_accuracy: 0.9917\n",
            "Epoch 93/100\n",
            "5/5 [==============================] - 14s 3s/step - loss: 0.0600 - accuracy: 0.9771 - val_loss: 0.0041 - val_accuracy: 1.0000\n",
            "Epoch 94/100\n",
            "5/5 [==============================] - 14s 3s/step - loss: 0.0987 - accuracy: 0.9633 - val_loss: 0.1204 - val_accuracy: 0.9587\n",
            "Epoch 95/100\n",
            "5/5 [==============================] - 14s 3s/step - loss: 0.1469 - accuracy: 0.9450 - val_loss: 0.1096 - val_accuracy: 0.9669\n",
            "Epoch 96/100\n",
            "5/5 [==============================] - 14s 3s/step - loss: 0.1451 - accuracy: 0.9587 - val_loss: 0.0249 - val_accuracy: 1.0000\n",
            "Epoch 97/100\n",
            "5/5 [==============================] - 14s 3s/step - loss: 0.0881 - accuracy: 0.9702 - val_loss: 0.0341 - val_accuracy: 0.9917\n",
            "Epoch 98/100\n",
            "5/5 [==============================] - 14s 3s/step - loss: 0.0896 - accuracy: 0.9564 - val_loss: 0.0237 - val_accuracy: 0.9917\n",
            "Epoch 99/100\n",
            "5/5 [==============================] - 14s 3s/step - loss: 0.1271 - accuracy: 0.9495 - val_loss: 0.0117 - val_accuracy: 0.9917\n",
            "Epoch 100/100\n",
            "5/5 [==============================] - 14s 3s/step - loss: 0.0720 - accuracy: 0.9748 - val_loss: 0.0110 - val_accuracy: 1.0000\n"
          ]
        },
        {
          "output_type": "execute_result",
          "data": {
            "text/plain": [
              "<keras.callbacks.History at 0x7f854bfb81d0>"
            ]
          },
          "metadata": {},
          "execution_count": 13
        }
      ]
    },
    {
      "cell_type": "code",
      "source": [
        "#save the model\n",
        "model.save('FFD.h5')"
      ],
      "metadata": {
        "id": "g8W7F6mGrJc6"
      },
      "execution_count": null,
      "outputs": []
    },
    {
      "cell_type": "code",
      "source": [
        "from keras.models import load_model\n",
        "\n",
        "model1 = load_model('//content/drive/MyDrive/ibm/FFD.h5')"
      ],
      "metadata": {
        "id": "osYdO2QTMCWT"
      },
      "execution_count": null,
      "outputs": []
    },
    {
      "cell_type": "code",
      "source": [
        "import numpy as np\n",
        "from tensorflow.keras.preprocessing import image"
      ],
      "metadata": {
        "id": "UVkGKNZJwK7c"
      },
      "execution_count": null,
      "outputs": []
    },
    {
      "cell_type": "code",
      "source": [
        "img = image.load_img(\"/content/Large_bonfire.jpg\",target_size=(64,64))"
      ],
      "metadata": {
        "id": "1St5S6H0wNAa"
      },
      "execution_count": null,
      "outputs": []
    },
    {
      "cell_type": "code",
      "source": [
        "img"
      ],
      "metadata": {
        "colab": {
          "base_uri": "https://localhost:8080/",
          "height": 81
        },
        "id": "B9gmU0bhwaBf",
        "outputId": "8d2fe31d-157b-4984-9671-59230c754db5"
      },
      "execution_count": null,
      "outputs": [
        {
          "output_type": "execute_result",
          "data": {
            "text/plain": [
              "<PIL.Image.Image image mode=RGB size=64x64 at 0x7FBC53A9CF90>"
            ],
            "image/png": "[encoded data removed]"
          },
          "metadata": {},
          "execution_count": 45
        }
      ]
    },
    {
      "cell_type": "code",
      "source": [
        "x = image.img_to_array(img)"
      ],
      "metadata": {
        "id": "GAa-fuyYwc0j"
      },
      "execution_count": null,
      "outputs": []
    },
    {
      "cell_type": "code",
      "source": [
        "x = np.expand_dims(x,axis=0)\n",
        "x"
      ],
      "metadata": {
        "colab": {
          "base_uri": "https://localhost:8080/"
        },
        "id": "PjmXOsyMwf8C",
        "outputId": "3b88cb13-581a-4d67-abca-6d1db86b1362"
      },
      "execution_count": null,
      "outputs": [
        {
          "output_type": "execute_result",
          "data": {
            "text/plain": [
              "array([[[[  2.,   0.,   1.],\n",
              "         [  2.,   0.,   1.],\n",
              "         [  2.,   0.,   1.],\n",
              "         ...,\n",
              "         [  3.,   0.,   0.],\n",
              "         [  5.,   1.,   0.],\n",
              "         [  2.,   0.,   1.]],\n",
              "\n",
              "        [[  2.,   0.,   1.],\n",
              "         [  2.,   0.,   1.],\n",
              "         [  2.,   0.,   1.],\n",
              "         ...,\n",
              "         [ 12.,   4.,   2.],\n",
              "         [  6.,   2.,   1.],\n",
              "         [  4.,   0.,   0.]],\n",
              "\n",
              "        [[  2.,   0.,   1.],\n",
              "         [  2.,   0.,   1.],\n",
              "         [  2.,   0.,   1.],\n",
              "         ...,\n",
              "         [ 16.,   2.,   1.],\n",
              "         [ 10.,   0.,   0.],\n",
              "         [ 35.,   2.,   0.]],\n",
              "\n",
              "        ...,\n",
              "\n",
              "        [[ 66.,   2.,   0.],\n",
              "         [ 63.,   8.,   3.],\n",
              "         [142.,  34.,   0.],\n",
              "         ...,\n",
              "         [  1.,   0.,   0.],\n",
              "         [  4.,   2.,   3.],\n",
              "         [  7.,   3.,   2.]],\n",
              "\n",
              "        [[ 57.,   5.,   7.],\n",
              "         [103.,  28.,   0.],\n",
              "         [244., 201.,   1.],\n",
              "         ...,\n",
              "         [  2.,   0.,   1.],\n",
              "         [  2.,   0.,   1.],\n",
              "         [  2.,   0.,   1.]],\n",
              "\n",
              "        [[243., 109.,  14.],\n",
              "         [248., 233.,  16.],\n",
              "         [255., 219.,  21.],\n",
              "         ...,\n",
              "         [  2.,   0.,   1.],\n",
              "         [  2.,   0.,   1.],\n",
              "         [  2.,   0.,   1.]]]], dtype=float32)"
            ]
          },
          "metadata": {},
          "execution_count": 47
        }
      ]
    },
    {
      "cell_type": "code",
      "source": [
        "model1.predict(x)"
      ],
      "metadata": {
        "colab": {
          "base_uri": "https://localhost:8080/"
        },
        "id": "uOtklwTdwh5A",
        "outputId": "0b272e48-986d-4779-fd44-e6d1aa95ba75"
      },
      "execution_count": null,
      "outputs": [
        {
          "output_type": "stream",
          "name": "stdout",
          "text": [
            "1/1 [==============================] - 0s 18ms/step\n"
          ]
        },
        {
          "output_type": "execute_result",
          "data": {
            "text/plain": [
              "array([[0., 1.]], dtype=float32)"
            ]
          },
          "metadata": {},
          "execution_count": 48
        }
      ]
    },
    {
      "cell_type": "code",
      "source": [
        "x_train.class_indices"
      ],
      "metadata": {
        "colab": {
          "base_uri": "https://localhost:8080/"
        },
        "id": "NriPqLn2wjvx",
        "outputId": "d72b8afb-59ef-4e5b-85e5-b927e6bbc21c"
      },
      "execution_count": null,
      "outputs": [
        {
          "output_type": "execute_result",
          "data": {
            "text/plain": [
              "{'forest': 0, 'with fire': 1}"
            ]
          },
          "metadata": {},
          "execution_count": 49
        }
      ]
    },
    {
      "cell_type": "code",
      "source": [
        "op = ['No fire','fire']\n",
        "pred = np.argmax(model1.predict(x))\n",
        "op[pred]"
      ],
      "metadata": {
        "colab": {
          "base_uri": "https://localhost:8080/",
          "height": 53
        },
        "id": "93yHhcyQwmod",
        "outputId": "5b560668-3440-4c57-cbc4-cbb35dbd329f"
      },
      "execution_count": null,
      "outputs": [
        {
          "output_type": "stream",
          "name": "stdout",
          "text": [
            "1/1 [==============================] - 0s 18ms/step\n"
          ]
        },
        {
          "output_type": "execute_result",
          "data": {
            "text/plain": [
              "'fire'"
            ],
            "application/vnd.google.colaboratory.intrinsic+json": {
              "type": "string"
            }
          },
          "metadata": {},
          "execution_count": 50
        }
      ]
    }
  ]
}